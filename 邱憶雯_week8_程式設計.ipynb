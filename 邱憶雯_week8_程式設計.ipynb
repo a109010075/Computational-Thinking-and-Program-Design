{
  "nbformat": 4,
  "nbformat_minor": 0,
  "metadata": {
    "colab": {
      "name": "邱憶雯-week8-程式設計.ipynb",
      "provenance": [],
      "authorship_tag": "ABX9TyNL2dT4jrNmcK/4Qodbm9CL",
      "include_colab_link": true
    },
    "kernelspec": {
      "name": "python3",
      "display_name": "Python 3"
    },
    "language_info": {
      "name": "python"
    }
  },
  "cells": [
    {
      "cell_type": "markdown",
      "metadata": {
        "id": "view-in-github",
        "colab_type": "text"
      },
      "source": [
        "<a href=\"https://colab.research.google.com/github/a109010075/Computational-Thinking-and-Program-Design/blob/main/%E9%82%B1%E6%86%B6%E9%9B%AF_week8_%E7%A8%8B%E5%BC%8F%E8%A8%AD%E8%A8%88.ipynb\" target=\"_parent\"><img src=\"https://colab.research.google.com/assets/colab-badge.svg\" alt=\"Open In Colab\"/></a>"
      ]
    },
    {
      "cell_type": "markdown",
      "metadata": {
        "id": "7bbFrLNIp1Uy"
      },
      "source": [
        "範例練習4-4: 服裝訂購系統\n",
        "**假設上衣300元、褲子350元與背心400元，使用者可以自行輸入三種服裝的數量，請設計一個程式計算訂購服裝的總金額。\n",
        "\n",
        "\n"
      ]
    },
    {
      "cell_type": "code",
      "metadata": {
        "colab": {
          "base_uri": "https://localhost:8080/"
        },
        "id": "1YN61sG8p5aS",
        "outputId": "a9926306-f084-4fd7-f8ed-a396b0ff920f"
      },
      "source": [
        "In [1]: ## Total = P1*Q1 + P2*Q2 + P3*Q3\n",
        "   ...: ## Input Data\n",
        "   ...: cloth = int(input('請輸入上衣數量？')) \n",
        "   ...: trousers = int(input('請輸入褲子數量？'))\n",
        "   ...: vest = int(input('請輸入背心數量？'))\n",
        "   ...: ## Process\n",
        "   ...: total = cloth*300 + trousers*350 + vest*400\n",
        "   ...: ## Output\n",
        "   ...: print('訂購服裝的總金額為', total)"
      ],
      "execution_count": 1,
      "outputs": [
        {
          "output_type": "stream",
          "text": [
            "請輸入上衣數量？10\n",
            "請輸入褲子數量？8\n",
            "請輸入背心數量？5\n",
            "訂購服裝的總金額為 7800\n"
          ],
          "name": "stdout"
        }
      ]
    },
    {
      "cell_type": "markdown",
      "metadata": {
        "id": "VOmky5qgqPOZ"
      },
      "source": [
        "範例練習4-5: 賣場買飲料\n",
        "為了刺激銷售量，賣場通常買一打會比買一罐便宜，假設一罐賣20元，一打賣200元，請設計一個程式計算買幾罐需花多少錢，若不足一打就個別買。\n",
        "\n",
        "～預覽結果 輸入購買飲料的罐數，如「30」，計算結果顯示在螢幕如下。 請輸入購買飲料的罐數？30 需花費 520\n"
      ]
    },
    {
      "cell_type": "code",
      "metadata": {
        "colab": {
          "base_uri": "https://localhost:8080/"
        },
        "id": "fZ0_3dGVqcYO",
        "outputId": "5d8e1454-0673-456d-edbf-a778f3ed668b"
      },
      "source": [
        "In [1]: ## Total = 200 * 幾打 ＋ 20 ＊ 罐\n",
        "   ...: ## Input Data\n",
        "   ...: cans = int(input('請輸入購買飲料的罐數？')) #數字轉文字\n",
        "   ...: ## Process\n",
        "   ...: total = (cans//12)*200 + (cans%12)*20\n",
        "   ...: ## Output\n",
        "   ...: print('需花費', total)\n",
        "  "
      ],
      "execution_count": 2,
      "outputs": [
        {
          "output_type": "stream",
          "text": [
            "請輸入購買飲料的罐數？124\n",
            "需花費 2080\n"
          ],
          "name": "stdout"
        }
      ]
    },
    {
      "cell_type": "markdown",
      "metadata": {
        "id": "yB-GzR9jqiyK"
      },
      "source": [
        "範例練習4-6：求三數總和與平均\n",
        "求第一次期中考、第二次期中考與期末考成績，成績皆為整數，請計算分數的加總與平均。\n",
        "\n",
        "～預覽結果 第一次期中考輸入「75」，第二次期中考輸入「80」，期末考輸入「65」，計算結果顯示在螢幕。 請輸入第一次期中考成績？75 請輸入第二次期中考成績？80 請輸入期末考成績？65 總分為 220 平均為 73.33333333333333"
      ]
    },
    {
      "cell_type": "code",
      "metadata": {
        "colab": {
          "base_uri": "https://localhost:8080/"
        },
        "id": "9H4bQd5Mqms5",
        "outputId": "10e9409d-37a9-4234-e0f1-a4eed20fe493"
      },
      "source": [
        "In [1]: ## 計算三次成績的總和與平均\n",
        "   ...: ## Input Data\n",
        "   ...: first = int(input('請輸入第一次期中考成績？'))\n",
        "   ...: second = int(input('請輸入第二次期中考成績？'))\n",
        "   ...: final = int(input('請輸入期末考成績？'))\n",
        "   ...: ## Process\n",
        "   ...: sum = first + second + final\n",
        "   ...: average = sum/3\n",
        "   ...: ## Output\n",
        "   ...: print('總分為', sum, '平均為', average)\n",
        "  "
      ],
      "execution_count": 3,
      "outputs": [
        {
          "output_type": "stream",
          "text": [
            "請輸入第一次期中考成績？66\n",
            "請輸入第二次期中考成績？88\n",
            "請輸入期末考成績？90\n",
            "總分為 244 平均為 81.33333333333333\n"
          ],
          "name": "stdout"
        }
      ]
    },
    {
      "cell_type": "markdown",
      "metadata": {
        "id": "e1b5XVXPqvpp"
      },
      "source": [
        "\n",
        "**隨堂練習： 請計算NBA 史上最偉大的中鋒之一，「柴油引擎」俠客歐尼爾（Shaquille O’Neal）巔峰時期的BMI。 當時他的身高(216cm)與體重(147kg)，而其所對應的身體質量指數公式為BMI ＝ 公斤 / 公尺平方。"
      ]
    },
    {
      "cell_type": "code",
      "metadata": {
        "colab": {
          "base_uri": "https://localhost:8080/"
        },
        "id": "A_eI2gq6qzdZ",
        "outputId": "663a4efb-a430-4932-f33a-5f8b76de8f0e"
      },
      "source": [
        "In [1]: player_name = input(\"請輸入球員姓名：\")\n",
        "   ...: player_height = input(\"請輸入球員身高（cm）：\")\n",
        "   ...: player_weight = input(\"請輸入球員體重（kg）：\")\n",
        "   ...: \n",
        "   ...: player_height = float(player_height)\n",
        "   ...: player_weight = float(player_weight)\n",
        "   ...: player_bmi = player_weight/(player_height*0.01)**2\n",
        "   ...: \n",
        "   ...: print(\"{}的身體質量指數為：{:.2f}\".format(player_name, player_bmi))\n",
        "   ...: print(player_name,'的身體質量指數為', player_bmi )\n",
        "   "
      ],
      "execution_count": 4,
      "outputs": [
        {
          "output_type": "stream",
          "text": [
            "請輸入球員姓名：Shaquille O’Neal\n",
            "請輸入球員身高（cm）：216\n",
            "請輸入球員體重（kg）：147\n",
            "Shaquille O’Neal的身體質量指數為：31.51\n",
            "Shaquille O’Neal 的身體質量指數為 31.507201646090532\n"
          ],
          "name": "stdout"
        }
      ]
    }
  ]
}