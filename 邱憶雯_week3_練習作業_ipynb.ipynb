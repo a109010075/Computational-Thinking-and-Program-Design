{
  "nbformat": 4,
  "nbformat_minor": 0,
  "metadata": {
    "colab": {
      "name": "邱憶雯-week3-練習作業-ipynb",
      "provenance": [],
      "authorship_tag": "ABX9TyMD1qGaAmit97afjmESfRdi",
      "include_colab_link": true
    },
    "kernelspec": {
      "name": "python3",
      "display_name": "Python 3"
    }
  },
  "cells": [
    {
      "cell_type": "markdown",
      "metadata": {
        "id": "view-in-github",
        "colab_type": "text"
      },
      "source": [
        "<a href=\"https://colab.research.google.com/github/a109010075/Computational-Thinking-and-Program-Design/blob/main/%E9%82%B1%E6%86%B6%E9%9B%AF_week3_%E7%B7%B4%E7%BF%92%E4%BD%9C%E6%A5%AD_ipynb.ipynb\" target=\"_parent\"><img src=\"https://colab.research.google.com/assets/colab-badge.svg\" alt=\"Open In Colab\"/></a>"
      ]
    },
    {
      "cell_type": "markdown",
      "metadata": {
        "id": "2X9_G3MzOERm"
      },
      "source": [
        "#隨堂練習\r\n",
        "\r\n",
        "\r\n"
      ]
    },
    {
      "cell_type": "markdown",
      "metadata": {
        "id": "8xH07NqSNlGm"
      },
      "source": [
        "認識電腦"
      ]
    },
    {
      "cell_type": "code",
      "metadata": {
        "id": "V77VHxzVObvC"
      },
      "source": [
        "\r\n"
      ],
      "execution_count": null,
      "outputs": []
    },
    {
      "cell_type": "markdown",
      "metadata": {
        "id": "0mqqdP33OjbV"
      },
      "source": [
        "#課後練習"
      ]
    },
    {
      "cell_type": "markdown",
      "metadata": {
        "id": "DrWnxCHgOtgU"
      },
      "source": [
        "從一則新聞報導，提出你對新聞系學生為什麼要學「運算思維與程式設計」的見解。（告訴我新聞連結，以及你的觀點即可。）"
      ]
    },
    {
      "cell_type": "markdown",
      "metadata": {
        "id": "E0bFr_Q5U0ke"
      },
      "source": [
        "https://www.twreporter.org/a/opinion-data-journalist"
      ]
    },
    {
      "cell_type": "markdown",
      "metadata": {
        "id": "Pnvy5Xb1P15c"
      },
      "source": [
        "我認為新聞系的學生可以運用電腦解決問題，利用大數據替自己的新聞報導建立更深的公信力。任何的問題都有解決方法，但是可以藉由電腦讓自己的問題達到最快速且輕鬆的處理。因此身為新聞系的學生也可撰寫程式碼，讓電腦替自己效命並傳達最快速的指令。"
      ]
    },
    {
      "cell_type": "code",
      "metadata": {
        "id": "F8lsnwUPTw-K"
      },
      "source": [
        ""
      ],
      "execution_count": null,
      "outputs": []
    }
  ]
}