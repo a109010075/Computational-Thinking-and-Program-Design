{
  "nbformat": 4,
  "nbformat_minor": 0,
  "metadata": {
    "colab": {
      "name": "邱憶雯-基本程式設計-隨堂練習-應用篇.ipynb",
      "provenance": [],
      "authorship_tag": "ABX9TyPbrAD2M52wkrpA1KsUftLK",
      "include_colab_link": true
    },
    "kernelspec": {
      "name": "python3",
      "display_name": "Python 3"
    },
    "language_info": {
      "name": "python"
    }
  },
  "cells": [
    {
      "cell_type": "markdown",
      "metadata": {
        "id": "view-in-github",
        "colab_type": "text"
      },
      "source": [
        "<a href=\"https://colab.research.google.com/github/a109010075/Computational-Thinking-and-Program-Design/blob/main/%E9%82%B1%E6%86%B6%E9%9B%AF_%E5%9F%BA%E6%9C%AC%E7%A8%8B%E5%BC%8F%E8%A8%AD%E8%A8%88_%E9%9A%A8%E5%A0%82%E7%B7%B4%E7%BF%92_%E6%87%89%E7%94%A8%E7%AF%87.ipynb\" target=\"_parent\"><img src=\"https://colab.research.google.com/assets/colab-badge.svg\" alt=\"Open In Colab\"/></a>"
      ]
    },
    {
      "cell_type": "markdown",
      "metadata": {
        "id": "iCXJX61otOL2"
      },
      "source": [
        "範例4-1\n"
      ]
    },
    {
      "cell_type": "code",
      "metadata": {
        "colab": {
          "base_uri": "https://localhost:8080/"
        },
        "id": "Px18GEa4qcJt",
        "outputId": "ca4a8d50-2f58-4016-8afc-a1f14f61fb53"
      },
      "source": [
        "In [1]: name = input('請問貴姓大名？')\n",
        "...: print('你好，', name)\n",
        "...:\n",
        "...: age = int(input('請問年紀？'))\n",
        "...: print('原來你', age ,'歲')\n",
        "...:\n",
        "...: weight = float(input('請問體重？'))\n",
        "...: print('體重為', weight)\n"
      ],
      "execution_count": null,
      "outputs": [
        {
          "output_type": "stream",
          "text": [
            "請問貴姓大名？sunny\n",
            "你好， sunny\n",
            "請問年紀？19\n",
            "原來你 19 歲\n",
            "請問體重？40\n",
            "體重為 40.0\n"
          ],
          "name": "stdout"
        }
      ]
    },
    {
      "cell_type": "markdown",
      "metadata": {
        "id": "kfj8rfFJqtkR"
      },
      "source": [
        "範例4-2"
      ]
    },
    {
      "cell_type": "code",
      "metadata": {
        "colab": {
          "base_uri": "https://localhost:8080/"
        },
        "id": "xwJmIa3Fs1JW",
        "outputId": "75115108-597f-4201-9cdb-c879e1fcaa9a"
      },
      "source": [
        "In [1]: ## 給我半徑、用公式計算圓面積與周長\n",
        "...: ## Input\n",
        "...: radius = float(input('請輸入半徑？'))\n",
        "...: PI = 3.14159\n",
        "...: ## Process\n",
        "...: circumference = 2 * PI * radius\n",
        "...: area = radius * radius * PI\n",
        "...: ## Output\n",
        "...: print(f'圓周長為 {circumference}， 圓面積為 {area}。')"
      ],
      "execution_count": null,
      "outputs": [
        {
          "output_type": "stream",
          "text": [
            "請輸入半徑？10\n",
            "圓周長為 62.8318， 圓面積為 314.159。\n"
          ],
          "name": "stdout"
        }
      ]
    },
    {
      "cell_type": "markdown",
      "metadata": {
        "id": "YEHk0i8rta2h"
      },
      "source": [
        "範例4-3"
      ]
    },
    {
      "cell_type": "code",
      "metadata": {
        "colab": {
          "base_uri": "https://localhost:8080/",
          "height": 128
        },
        "id": "yHNWTm85xMQX",
        "outputId": "d1a6ce1b-8100-45e9-ccb6-eb7f49c98749"
      },
      "source": [
        "In [1]: ## Input\n",
        "...: c = float(input('請輸入攝氏溫度？'))\n",
        "...:\n",
        "...: ## Process\n",
        "...: f = c * 9/5 + 32\n",
        "...:\n",
        "...: ## Output\n",
        "...: print('華氏溫度為', f)\n",
        "請輸入攝氏溫度？30\n",
        "華氏溫度為 86.0\n",
        "In [2]: ## 延伸：華氏轉攝氏\n",
        "...: c1 = (f - 32) * (5/9)\n",
        "...: print(\"攝氏溫度\", c1)\n",
        "攝氏溫度 30.0"
      ],
      "execution_count": null,
      "outputs": [
        {
          "output_type": "error",
          "ename": "SyntaxError",
          "evalue": "ignored",
          "traceback": [
            "\u001b[0;36m  File \u001b[0;32m\"<ipython-input-11-f70b9f326bbd>\"\u001b[0;36m, line \u001b[0;32m9\u001b[0m\n\u001b[0;31m    請輸入攝氏溫度？ 30\u001b[0m\n\u001b[0m           ^\u001b[0m\n\u001b[0;31mSyntaxError\u001b[0m\u001b[0;31m:\u001b[0m invalid character in identifier\n"
          ]
        }
      ]
    }
  ]
}